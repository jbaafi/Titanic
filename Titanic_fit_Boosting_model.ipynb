{
 "cells": [
  {
   "cell_type": "code",
   "execution_count": 13,
   "metadata": {},
   "outputs": [
    {
     "name": "stdout",
     "output_type": "stream",
     "text": [
      "GradientBoostingClassifier(criterion='friedman_mse', init=None,\n",
      "                           learning_rate=0.1, loss='deviance', max_depth=3,\n",
      "                           max_features=None, max_leaf_nodes=None,\n",
      "                           min_impurity_decrease=0.0, min_impurity_split=None,\n",
      "                           min_samples_leaf=1, min_samples_split=2,\n",
      "                           min_weight_fraction_leaf=0.0, n_estimators=100,\n",
      "                           n_iter_no_change=None, presort='auto',\n",
      "                           random_state=None, subsample=1.0, tol=0.0001,\n",
      "                           validation_fraction=0.1, verbose=0,\n",
      "                           warm_start=False)\n"
     ]
    }
   ],
   "source": [
    "import joblib\n",
    "import pandas as pd\n",
    "from sklearn.ensemble import GradientBoostingClassifier\n",
    "from sklearn.model_selection import GridSearchCV\n",
    "import warnings\n",
    "warnings.filterwarnings(\"ignore\", category=FutureWarning)\n",
    "warnings.filterwarnings(\"ignore\", category=DeprecationWarning)\n",
    "\n",
    "print(GradientBoostingClassifier())\n"
   ]
  },
  {
   "cell_type": "code",
   "execution_count": 8,
   "metadata": {},
   "outputs": [],
   "source": [
    "tr_features = pd.read_csv(\"/Users/jbaafi/Desktop/titanic_data/train_features.csv\")\n",
    "tr_labels = pd.read_csv(\"/Users/jbaafi/Desktop/titanic_data/train_labels.csv\", header=None)"
   ]
  },
  {
   "cell_type": "code",
   "execution_count": 9,
   "metadata": {},
   "outputs": [],
   "source": [
    "def print_results(results):\n",
    "    print(\"BEST PARAMS: {}\\n\".format(results.best_params_))\n",
    "    \n",
    "    means = results.cv_results_[\"mean_test_score\"]\n",
    "    stds = results.cv_results_[\"std_test_score\"]\n",
    "    for mean, std, params in zip(means, stds, results.cv_results_[\"params\"]):\n",
    "        print(\"{} (+/-{}) for {}\".format(round(mean, 3), round(std*2, 3), params))"
   ]
  },
  {
   "cell_type": "code",
   "execution_count": 10,
   "metadata": {},
   "outputs": [
    {
     "name": "stdout",
     "output_type": "stream",
     "text": [
      "BEST PARAMS: {'learning_rate': 0.01, 'max_depth': 3, 'n_estimators': 500}\n",
      "\n",
      "0.624 (+/-0.005) for {'learning_rate': 0.01, 'max_depth': 1, 'n_estimators': 5}\n",
      "0.796 (+/-0.116) for {'learning_rate': 0.01, 'max_depth': 1, 'n_estimators': 50}\n",
      "0.796 (+/-0.116) for {'learning_rate': 0.01, 'max_depth': 1, 'n_estimators': 250}\n",
      "0.811 (+/-0.118) for {'learning_rate': 0.01, 'max_depth': 1, 'n_estimators': 500}\n",
      "0.624 (+/-0.005) for {'learning_rate': 0.01, 'max_depth': 3, 'n_estimators': 5}\n",
      "0.811 (+/-0.071) for {'learning_rate': 0.01, 'max_depth': 3, 'n_estimators': 50}\n",
      "0.83 (+/-0.076) for {'learning_rate': 0.01, 'max_depth': 3, 'n_estimators': 250}\n",
      "0.841 (+/-0.079) for {'learning_rate': 0.01, 'max_depth': 3, 'n_estimators': 500}\n",
      "0.624 (+/-0.005) for {'learning_rate': 0.01, 'max_depth': 5, 'n_estimators': 5}\n",
      "0.818 (+/-0.051) for {'learning_rate': 0.01, 'max_depth': 5, 'n_estimators': 50}\n",
      "0.82 (+/-0.039) for {'learning_rate': 0.01, 'max_depth': 5, 'n_estimators': 250}\n",
      "0.831 (+/-0.043) for {'learning_rate': 0.01, 'max_depth': 5, 'n_estimators': 500}\n",
      "0.624 (+/-0.005) for {'learning_rate': 0.01, 'max_depth': 7, 'n_estimators': 5}\n",
      "0.816 (+/-0.051) for {'learning_rate': 0.01, 'max_depth': 7, 'n_estimators': 50}\n",
      "0.816 (+/-0.035) for {'learning_rate': 0.01, 'max_depth': 7, 'n_estimators': 250}\n",
      "0.805 (+/-0.022) for {'learning_rate': 0.01, 'max_depth': 7, 'n_estimators': 500}\n",
      "0.624 (+/-0.005) for {'learning_rate': 0.01, 'max_depth': 9, 'n_estimators': 5}\n",
      "0.801 (+/-0.055) for {'learning_rate': 0.01, 'max_depth': 9, 'n_estimators': 50}\n",
      "0.801 (+/-0.024) for {'learning_rate': 0.01, 'max_depth': 9, 'n_estimators': 250}\n",
      "0.781 (+/-0.029) for {'learning_rate': 0.01, 'max_depth': 9, 'n_estimators': 500}\n",
      "0.796 (+/-0.116) for {'learning_rate': 0.1, 'max_depth': 1, 'n_estimators': 5}\n",
      "0.815 (+/-0.12) for {'learning_rate': 0.1, 'max_depth': 1, 'n_estimators': 50}\n",
      "0.818 (+/-0.112) for {'learning_rate': 0.1, 'max_depth': 1, 'n_estimators': 250}\n",
      "0.828 (+/-0.093) for {'learning_rate': 0.1, 'max_depth': 1, 'n_estimators': 500}\n",
      "0.813 (+/-0.073) for {'learning_rate': 0.1, 'max_depth': 3, 'n_estimators': 5}\n",
      "0.837 (+/-0.077) for {'learning_rate': 0.1, 'max_depth': 3, 'n_estimators': 50}\n",
      "0.83 (+/-0.04) for {'learning_rate': 0.1, 'max_depth': 3, 'n_estimators': 250}\n",
      "0.811 (+/-0.03) for {'learning_rate': 0.1, 'max_depth': 3, 'n_estimators': 500}\n",
      "0.815 (+/-0.053) for {'learning_rate': 0.1, 'max_depth': 5, 'n_estimators': 5}\n",
      "0.824 (+/-0.008) for {'learning_rate': 0.1, 'max_depth': 5, 'n_estimators': 50}\n",
      "0.796 (+/-0.051) for {'learning_rate': 0.1, 'max_depth': 5, 'n_estimators': 250}\n",
      "0.803 (+/-0.029) for {'learning_rate': 0.1, 'max_depth': 5, 'n_estimators': 500}\n",
      "0.815 (+/-0.053) for {'learning_rate': 0.1, 'max_depth': 7, 'n_estimators': 5}\n",
      "0.798 (+/-0.025) for {'learning_rate': 0.1, 'max_depth': 7, 'n_estimators': 50}\n",
      "0.79 (+/-0.033) for {'learning_rate': 0.1, 'max_depth': 7, 'n_estimators': 250}\n",
      "0.796 (+/-0.042) for {'learning_rate': 0.1, 'max_depth': 7, 'n_estimators': 500}\n",
      "0.8 (+/-0.042) for {'learning_rate': 0.1, 'max_depth': 9, 'n_estimators': 5}\n",
      "0.796 (+/-0.035) for {'learning_rate': 0.1, 'max_depth': 9, 'n_estimators': 50}\n",
      "0.796 (+/-0.037) for {'learning_rate': 0.1, 'max_depth': 9, 'n_estimators': 250}\n",
      "0.792 (+/-0.051) for {'learning_rate': 0.1, 'max_depth': 9, 'n_estimators': 500}\n",
      "0.818 (+/-0.1) for {'learning_rate': 1, 'max_depth': 1, 'n_estimators': 5}\n",
      "0.83 (+/-0.078) for {'learning_rate': 1, 'max_depth': 1, 'n_estimators': 50}\n",
      "0.828 (+/-0.069) for {'learning_rate': 1, 'max_depth': 1, 'n_estimators': 250}\n",
      "0.818 (+/-0.082) for {'learning_rate': 1, 'max_depth': 1, 'n_estimators': 500}\n",
      "0.824 (+/-0.059) for {'learning_rate': 1, 'max_depth': 3, 'n_estimators': 5}\n",
      "0.8 (+/-0.027) for {'learning_rate': 1, 'max_depth': 3, 'n_estimators': 50}\n",
      "0.803 (+/-0.042) for {'learning_rate': 1, 'max_depth': 3, 'n_estimators': 250}\n",
      "0.801 (+/-0.048) for {'learning_rate': 1, 'max_depth': 3, 'n_estimators': 500}\n",
      "0.813 (+/-0.038) for {'learning_rate': 1, 'max_depth': 5, 'n_estimators': 5}\n",
      "0.803 (+/-0.074) for {'learning_rate': 1, 'max_depth': 5, 'n_estimators': 50}\n",
      "0.805 (+/-0.063) for {'learning_rate': 1, 'max_depth': 5, 'n_estimators': 250}\n",
      "0.803 (+/-0.078) for {'learning_rate': 1, 'max_depth': 5, 'n_estimators': 500}\n",
      "0.785 (+/-0.031) for {'learning_rate': 1, 'max_depth': 7, 'n_estimators': 5}\n",
      "0.794 (+/-0.042) for {'learning_rate': 1, 'max_depth': 7, 'n_estimators': 50}\n",
      "0.801 (+/-0.066) for {'learning_rate': 1, 'max_depth': 7, 'n_estimators': 250}\n",
      "0.803 (+/-0.068) for {'learning_rate': 1, 'max_depth': 7, 'n_estimators': 500}\n",
      "0.775 (+/-0.044) for {'learning_rate': 1, 'max_depth': 9, 'n_estimators': 5}\n",
      "0.785 (+/-0.039) for {'learning_rate': 1, 'max_depth': 9, 'n_estimators': 50}\n",
      "0.796 (+/-0.045) for {'learning_rate': 1, 'max_depth': 9, 'n_estimators': 250}\n",
      "0.8 (+/-0.03) for {'learning_rate': 1, 'max_depth': 9, 'n_estimators': 500}\n",
      "0.204 (+/-0.116) for {'learning_rate': 10, 'max_depth': 1, 'n_estimators': 5}\n",
      "0.204 (+/-0.116) for {'learning_rate': 10, 'max_depth': 1, 'n_estimators': 50}\n",
      "0.204 (+/-0.116) for {'learning_rate': 10, 'max_depth': 1, 'n_estimators': 250}\n",
      "0.204 (+/-0.116) for {'learning_rate': 10, 'max_depth': 1, 'n_estimators': 500}\n",
      "0.311 (+/-0.192) for {'learning_rate': 10, 'max_depth': 3, 'n_estimators': 5}\n",
      "0.311 (+/-0.192) for {'learning_rate': 10, 'max_depth': 3, 'n_estimators': 50}\n",
      "0.311 (+/-0.192) for {'learning_rate': 10, 'max_depth': 3, 'n_estimators': 250}\n",
      "0.311 (+/-0.192) for {'learning_rate': 10, 'max_depth': 3, 'n_estimators': 500}\n",
      "0.489 (+/-0.34) for {'learning_rate': 10, 'max_depth': 5, 'n_estimators': 5}\n",
      "0.457 (+/-0.318) for {'learning_rate': 10, 'max_depth': 5, 'n_estimators': 50}\n",
      "0.453 (+/-0.312) for {'learning_rate': 10, 'max_depth': 5, 'n_estimators': 250}\n",
      "0.438 (+/-0.303) for {'learning_rate': 10, 'max_depth': 5, 'n_estimators': 500}\n",
      "0.635 (+/-0.141) for {'learning_rate': 10, 'max_depth': 7, 'n_estimators': 5}\n",
      "0.588 (+/-0.19) for {'learning_rate': 10, 'max_depth': 7, 'n_estimators': 50}\n",
      "0.582 (+/-0.191) for {'learning_rate': 10, 'max_depth': 7, 'n_estimators': 250}\n",
      "0.594 (+/-0.2) for {'learning_rate': 10, 'max_depth': 7, 'n_estimators': 500}\n",
      "0.695 (+/-0.112) for {'learning_rate': 10, 'max_depth': 9, 'n_estimators': 5}\n",
      "0.708 (+/-0.131) for {'learning_rate': 10, 'max_depth': 9, 'n_estimators': 50}\n",
      "0.713 (+/-0.13) for {'learning_rate': 10, 'max_depth': 9, 'n_estimators': 250}\n",
      "0.676 (+/-0.108) for {'learning_rate': 10, 'max_depth': 9, 'n_estimators': 500}\n",
      "0.376 (+/-0.005) for {'learning_rate': 100, 'max_depth': 1, 'n_estimators': 5}\n",
      "0.376 (+/-0.005) for {'learning_rate': 100, 'max_depth': 1, 'n_estimators': 50}\n",
      "0.376 (+/-0.005) for {'learning_rate': 100, 'max_depth': 1, 'n_estimators': 250}\n",
      "0.376 (+/-0.005) for {'learning_rate': 100, 'max_depth': 1, 'n_estimators': 500}\n",
      "0.29 (+/-0.104) for {'learning_rate': 100, 'max_depth': 3, 'n_estimators': 5}\n",
      "0.29 (+/-0.104) for {'learning_rate': 100, 'max_depth': 3, 'n_estimators': 50}\n",
      "0.29 (+/-0.104) for {'learning_rate': 100, 'max_depth': 3, 'n_estimators': 250}\n",
      "0.29 (+/-0.104) for {'learning_rate': 100, 'max_depth': 3, 'n_estimators': 500}\n",
      "0.382 (+/-0.179) for {'learning_rate': 100, 'max_depth': 5, 'n_estimators': 5}\n",
      "0.382 (+/-0.186) for {'learning_rate': 100, 'max_depth': 5, 'n_estimators': 50}\n",
      "0.376 (+/-0.176) for {'learning_rate': 100, 'max_depth': 5, 'n_estimators': 250}\n",
      "0.375 (+/-0.175) for {'learning_rate': 100, 'max_depth': 5, 'n_estimators': 500}\n",
      "0.584 (+/-0.135) for {'learning_rate': 100, 'max_depth': 7, 'n_estimators': 5}\n",
      "0.596 (+/-0.087) for {'learning_rate': 100, 'max_depth': 7, 'n_estimators': 50}\n",
      "0.594 (+/-0.097) for {'learning_rate': 100, 'max_depth': 7, 'n_estimators': 250}\n",
      "0.562 (+/-0.153) for {'learning_rate': 100, 'max_depth': 7, 'n_estimators': 500}\n",
      "0.669 (+/-0.088) for {'learning_rate': 100, 'max_depth': 9, 'n_estimators': 5}\n",
      "0.659 (+/-0.057) for {'learning_rate': 100, 'max_depth': 9, 'n_estimators': 50}\n",
      "0.672 (+/-0.074) for {'learning_rate': 100, 'max_depth': 9, 'n_estimators': 250}\n",
      "0.674 (+/-0.087) for {'learning_rate': 100, 'max_depth': 9, 'n_estimators': 500}\n"
     ]
    }
   ],
   "source": [
    "gb = GradientBoostingClassifier()\n",
    "parameters = {\n",
    "    \"n_estimators\" : [5, 50, 250, 500],\n",
    "    \"max_depth\" : [1, 3, 5, 7, 9],\n",
    "    \"learning_rate\" :[0.01, 0.1, 1, 10, 100]\n",
    "}\n",
    "\n",
    "cv = GridSearchCV(gb, parameters, cv=5)\n",
    "cv.fit(tr_features, tr_labels.values.ravel())\n",
    "\n",
    "print_results(cv)"
   ]
  },
  {
   "cell_type": "code",
   "execution_count": 14,
   "metadata": {},
   "outputs": [
    {
     "data": {
      "text/plain": [
       "['/Users/jbaafi/Desktop/titanic_data/GB_model.pkl']"
      ]
     },
     "execution_count": 14,
     "metadata": {},
     "output_type": "execute_result"
    }
   ],
   "source": [
    "joblib.dump(cv.best_estimator_, \"/Users/jbaafi/Desktop/titanic_data/GB_model.pkl\")"
   ]
  },
  {
   "cell_type": "code",
   "execution_count": null,
   "metadata": {},
   "outputs": [],
   "source": []
  }
 ],
 "metadata": {
  "kernelspec": {
   "display_name": "Python 3",
   "language": "python",
   "name": "python3"
  },
  "language_info": {
   "codemirror_mode": {
    "name": "ipython",
    "version": 3
   },
   "file_extension": ".py",
   "mimetype": "text/x-python",
   "name": "python",
   "nbconvert_exporter": "python",
   "pygments_lexer": "ipython3",
   "version": "3.7.4"
  }
 },
 "nbformat": 4,
 "nbformat_minor": 2
}
